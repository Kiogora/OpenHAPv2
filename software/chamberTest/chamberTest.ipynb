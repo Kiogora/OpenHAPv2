{
 "cells": [
  {
   "cell_type": "markdown",
   "metadata": {},
   "source": [
    "# OpenHAP Measurement Normalization Framework"
   ]
  },
  {
   "cell_type": "markdown",
   "metadata": {},
   "source": [
    "![title](../../images/chamberTest.png)"
   ]
  },
  {
   "cell_type": "markdown",
   "metadata": {},
   "source": [
    "## Import required libraries"
   ]
  },
  {
   "cell_type": "code",
   "execution_count": 1,
   "metadata": {},
   "outputs": [],
   "source": [
    "import os\n",
    "import csv\n",
    "import time\n",
    "import glob\n",
    "import datetime\n",
    "import pandas as pd\n",
    "import paho.mqtt.client as mqtt\n",
    "from matplotlib import pyplot as plt\n",
    "from IPython.display import clear_output"
   ]
  },
  {
   "cell_type": "markdown",
   "metadata": {},
   "source": [
    "## Setup defaults"
   ]
  },
  {
   "cell_type": "markdown",
   "metadata": {},
   "source": [
    "### Setup broker specifics"
   ]
  },
  {
   "cell_type": "code",
   "execution_count": 2,
   "metadata": {},
   "outputs": [],
   "source": [
    "broker_address = \"127.0.0.1\""
   ]
  },
  {
   "cell_type": "code",
   "execution_count": 3,
   "metadata": {},
   "outputs": [],
   "source": [
    "broker_qos, command_qos, measurement_qos = 2,2,2"
   ]
  },
  {
   "cell_type": "code",
   "execution_count": 4,
   "metadata": {},
   "outputs": [],
   "source": [
    "command_interval = 5"
   ]
  },
  {
   "cell_type": "code",
   "execution_count": 5,
   "metadata": {},
   "outputs": [],
   "source": [
    "openhap_units = 0"
   ]
  },
  {
   "cell_type": "code",
   "execution_count": 6,
   "metadata": {},
   "outputs": [],
   "source": [
    "system_mid, command_mid, measurement_mid = 0,0,0"
   ]
  },
  {
   "cell_type": "markdown",
   "metadata": {},
   "source": [
    "### Setup dataframe and file specifics"
   ]
  },
  {
   "cell_type": "code",
   "execution_count": 7,
   "metadata": {},
   "outputs": [],
   "source": [
    "time_field_txt = \"Message received time (UTC)\"\n",
    "device_field_txt = \"Device\"\n",
    "device_time_field_txt = \"Device time (UTC)\"\n",
    "measurement_field_txt = \"Particulate measurement\"\n",
    "connected_openhap_units_field_txt = \"Connected OpenHAP units\""
   ]
  },
  {
   "cell_type": "code",
   "execution_count": 8,
   "metadata": {},
   "outputs": [],
   "source": [
    "csv_fieldnames = [time_field_txt, device_field_txt, device_time_field_txt, \n",
    "                  measurement_field_txt, connected_openhap_units_field_txt]"
   ]
  },
  {
   "cell_type": "code",
   "execution_count": 9,
   "metadata": {},
   "outputs": [],
   "source": [
    "measurement_filename = \"chamberTest.csv\"\n",
    "client_metadata_file = \"broker.csv\""
   ]
  },
  {
   "cell_type": "markdown",
   "metadata": {},
   "source": [
    "## Setup dataframes and the live plotting function"
   ]
  },
  {
   "cell_type": "code",
   "execution_count": 10,
   "metadata": {},
   "outputs": [],
   "source": [
    "measurement_df = pd.DataFrame(columns=csv_fieldnames)\n",
    "\n",
    "measurement_df[measurement_field_txt]= measurement_df[measurement_field_txt].astype(int)\n",
    "measurement_df[device_time_field_txt]= measurement_df[device_time_field_txt].astype('datetime64[ns]')"
   ]
  },
  {
   "cell_type": "code",
   "execution_count": 11,
   "metadata": {},
   "outputs": [],
   "source": [
    "%matplotlib inline\n",
    "\n",
    "def live_plot():\n",
    "    measurement_df_copy = measurement_df.copy()\n",
    "    measurement_df_copy[measurement_field_txt]= measurement_df_copy[measurement_field_txt].astype(int)\n",
    "    measurement_df_copy.set_index(device_time_field_txt, inplace=True)\n",
    "    measurement_df_copy.groupby(device_field_txt)[measurement_field_txt].plot(legend=True, \n",
    "                                                                              figsize=(20,10), \n",
    "                                                                              grid=True)\n",
    "    clear_output(wait=True)\n",
    "    plt.show();"
   ]
  },
  {
   "cell_type": "markdown",
   "metadata": {},
   "source": [
    "## Setup event callbacks"
   ]
  },
  {
   "cell_type": "code",
   "execution_count": 12,
   "metadata": {},
   "outputs": [],
   "source": [
    "def on_connect(client, userdata, flags, rc):\n",
    "    global system_mid, command_mid, measurement_mid\n",
    "    if rc == 0:\n",
    "        print(\"Connected OK\")\n",
    "        system_mid = client.subscribe(\"$SYS/broker/clients/#\", broker_qos)[-1]\n",
    "        command_mid = client.subscribe(\"command\", command_qos)[-1]\n",
    "        measurement_mid = client.subscribe(\"measurement/#\", measurement_qos)[-1]"
   ]
  },
  {
   "cell_type": "code",
   "execution_count": 13,
   "metadata": {},
   "outputs": [],
   "source": [
    "def on_subscribe(client, userdata, mid, granted_qos): \n",
    "    if mid == measurement_mid:\n",
    "        print(\"measurement topics successfully subscribed\")\n",
    "    elif mid == command_mid:\n",
    "        print(\"Command topic successfully subscribed\")\n",
    "    elif mid == system_mid:\n",
    "        print(\"System topic successfully subscribed\")\n",
    "    else:\n",
    "        print(\"Other topic subscription acknowledgement received\")"
   ]
  },
  {
   "cell_type": "code",
   "execution_count": 14,
   "metadata": {},
   "outputs": [],
   "source": [
    "def on_message(client, userdata, message):\n",
    "    global openhap_units, measurement_df\n",
    "    if message.topic == \"command\":\n",
    "        print(\"Measurement command sent!\")\n",
    "    if \"measurement\" in message.topic:\n",
    "            message_received_time = datetime.datetime.utcnow()\n",
    "            mqtt_topic_levels = message.topic.split('/')\n",
    "            if len(mqtt_topic_levels) != 2:\n",
    "                print(\"Improperly formatted measurement topic received\")\n",
    "            else:\n",
    "                payload = str(message.payload, 'utf-8').split(',')\\\n",
    "                \n",
    "                device = mqtt_topic_levels[1]\n",
    "                device_time = int(payload[1])\n",
    "                measurement = int(payload[0])\n",
    "                \n",
    "                #Not ideal to expand a dataframe...but it will do\n",
    "                temp = pd.DataFrame([[message_received_time,device,\n",
    "                                      device_time, measurement, openhap_units]], \n",
    "                                    columns = csv_fieldnames)\n",
    "                \n",
    "                temp[device_time_field_txt] = pd.to_datetime(temp[device_time_field_txt], unit='s')\n",
    "                measurement_df = pd.concat([measurement_df, temp])\n",
    "                live_plot()\n",
    "    if \"connected\" in message.topic:\n",
    "        connected_clients = int(str(message.payload, 'utf-8'))\n",
    "        openhap_units = connected_clients - 1\n",
    "        print(f\"{openhap_units} OpenHAP units connected to broker\")"
   ]
  },
  {
   "cell_type": "markdown",
   "metadata": {},
   "source": [
    "## Test code"
   ]
  },
  {
   "cell_type": "code",
   "execution_count": 15,
   "metadata": {},
   "outputs": [
    {
     "data": {
      "image/png": "[encoded data removed]",
      "text/plain": [
       "<Figure size 1440x720 with 1 Axes>"
      ]
     },
     "metadata": {
      "needs_background": "light"
     },
     "output_type": "display_data"
    },
    {
     "name": "stdout",
     "output_type": "stream",
     "text": [
      "Measurement command sent!\n",
      "Event loop thread stopped and CSV written\n",
      "End of program\n"
     ]
    }
   ],
   "source": [
    "file_present = glob.glob(measurement_filename)\n",
    "\n",
    "if file_present:\n",
    "    os.remove(measurement_filename)\n",
    "\n",
    "controller = mqtt.Client(\"controller\",clean_session=True)\n",
    "\n",
    "controller.on_connect = on_connect\n",
    "controller.on_subscribe = on_subscribe\n",
    "controller.on_message = on_message\n",
    "\n",
    "controller.connect(broker_address)\n",
    "controller.loop_start()\n",
    "\n",
    "while True:\n",
    "    try:\n",
    "        time.sleep(command_interval)\n",
    "        controller.publish(\"command\", \"measure\")\n",
    "    except KeyboardInterrupt:\n",
    "        controller.loop_stop()\n",
    "        controller.disconnect()\n",
    "        measurement_df.to_csv(measurement_filename, encoding = \"utf-8\", index = False)\n",
    "        print(\"Event loop thread stopped and CSV written\")\n",
    "        break\n",
    "print(\"End of program\")"
   ]
  }
 ],
 "metadata": {
  "kernelspec": {
   "display_name": "Python 3",
   "language": "python",
   "name": "python3"
  },
  "language_info": {
   "codemirror_mode": {
    "name": "ipython",
    "version": 3
   },
   "file_extension": ".py",
   "mimetype": "text/x-python",
   "name": "python",
   "nbconvert_exporter": "python",
   "pygments_lexer": "ipython3",
   "version": "3.7.6"
  }
 },
 "nbformat": 4,
 "nbformat_minor": 4
}
