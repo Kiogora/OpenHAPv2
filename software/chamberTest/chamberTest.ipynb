{
 "cells": [
  {
   "cell_type": "markdown",
   "metadata": {},
   "source": [
    "# OpenHAP chamber test"
   ]
  },
  {
   "cell_type": "markdown",
   "metadata": {},
   "source": [
    "## Import required libraries"
   ]
  },
  {
   "cell_type": "code",
   "execution_count": 1,
   "metadata": {},
   "outputs": [],
   "source": [
    "import csv\n",
    "import time\n",
    "import datetime\n",
    "import paho.mqtt.client as mqtt"
   ]
  },
  {
   "cell_type": "markdown",
   "metadata": {},
   "source": [
    "## Setup defaults"
   ]
  },
  {
   "cell_type": "code",
   "execution_count": 2,
   "metadata": {},
   "outputs": [],
   "source": [
    "broker_address = \"127.0.0.1\""
   ]
  },
  {
   "cell_type": "code",
   "execution_count": 3,
   "metadata": {},
   "outputs": [],
   "source": [
    "time_field_txt = \"Message received time\"\n",
    "device_field_txt = \"Device\"\n",
    "device_time_field_txt = \"Device Time\"\n",
    "measurement_field_txt = \"Particulate measurement\"\n",
    "connected_openhap_units_field_txt = \"Connected OpenHAP units\"\n",
    "csv_fieldnames = [time_field_txt, device_field_txt, device_time_field_txt, measurement_field_txt, connected_openhap_units_field_txt]"
   ]
  },
  {
   "cell_type": "code",
   "execution_count": 4,
   "metadata": {},
   "outputs": [],
   "source": [
    "csv_file = \"chamberTest.csv\"\n",
    "broker_state_file = \"broker.csv\""
   ]
  },
  {
   "cell_type": "code",
   "execution_count": 5,
   "metadata": {},
   "outputs": [],
   "source": [
    "broker_qos, command_qos, measurement_qos = 2,2,2"
   ]
  },
  {
   "cell_type": "code",
   "execution_count": 6,
   "metadata": {},
   "outputs": [],
   "source": [
    "connected = False\n",
    "openhap_units = 0"
   ]
  },
  {
   "cell_type": "markdown",
   "metadata": {},
   "source": [
    "## Set dynamic plotting function"
   ]
  },
  {
   "cell_type": "code",
   "execution_count": 7,
   "metadata": {},
   "outputs": [],
   "source": [
    "import pandas as pd\n",
    "from IPython.display import clear_output\n",
    "from matplotlib import pyplot as plt\n",
    "\n",
    "%matplotlib inline\n",
    "\n",
    "def live_plot():\n",
    "    df = pd.read_csv(csv_file)\n",
    "    df[device_time_field_txt] = pd.to_datetime(df[device_time_field_txt],unit='s')\n",
    "    df[measurement_field_txt]= df[measurement_field_txt].astype(int)\n",
    "    df.set_index(device_time_field_txt, inplace=True)\n",
    "    df.groupby(device_field_txt)[measurement_field_txt].plot(legend=True, figsize=(20,10), grid=True)\n",
    "    clear_output(wait=True)\n",
    "    plt.show();"
   ]
  },
  {
   "cell_type": "markdown",
   "metadata": {},
   "source": [
    "## Setup event callbacks"
   ]
  },
  {
   "cell_type": "code",
   "execution_count": 8,
   "metadata": {},
   "outputs": [],
   "source": [
    "def on_connect(client, userdata, flags, rc):\n",
    "    if rc == 0:\n",
    "        print(\"Connected OK, returned code=\",rc)\n",
    "        mid = client.subscribe([(\"$SYS/broker/clients/#\",broker_qos),\n",
    "                                (\"command\", command_qos),\n",
    "                                (\"measurement/#\", measurement_qos)])\n",
    "        connected = True"
   ]
  },
  {
   "cell_type": "code",
   "execution_count": 9,
   "metadata": {},
   "outputs": [],
   "source": [
    "def on_subscribe(client, userdata, mid, granted_qos): \n",
    "    print(f\"Granted QOS for broker data: {granted_qos[0]}\")\n",
    "    print(f\"Granted QOS for commands: {granted_qos[1]}\")\n",
    "    print(f\"Granted QOS for measurement data: {granted_qos[2]}\")"
   ]
  },
  {
   "cell_type": "code",
   "execution_count": 10,
   "metadata": {},
   "outputs": [],
   "source": [
    "def on_message(client, userdata, message):\n",
    "    global openhap_units\n",
    "    if message.topic == \"command\":\n",
    "        print(\"Measurement command sent!\")\n",
    "    if \"measurement\" in message.topic:\n",
    "            mqtt_topic_levels = message.topic.split('/')\n",
    "            if len(mqtt_topic_levels) != 2:\n",
    "                print(\"Improperly formatted measurement topic received\")\n",
    "            else:\n",
    "                message_received_time = datetime.datetime.now()\n",
    "                device = mqtt_topic_levels[1]\n",
    "                \n",
    "                payload = str(message.payload, 'utf-8').split(',')\n",
    "                measurement = int(payload[0])\n",
    "                device_time = int(payload[1])\n",
    "                \n",
    "                with open(csv_file, 'a') as measurement_file:\n",
    "                    print(\"CSV file opened - writing header\")\n",
    "                    writer = csv.DictWriter(measurement_file, fieldnames=csv_fieldnames)\n",
    "                    writer.writerow({time_field_txt: message_received_time,\n",
    "                                     device_time_field_txt : device_time,\n",
    "                                     device_field_txt: device,\n",
    "                                     measurement_field_txt:measurement,\n",
    "                                     connected_openhap_units_field_txt: openhap_units})\n",
    "                    measurement_file.close()\n",
    "                live_plot()\n",
    "    if \"connected\" in message.topic:\n",
    "        connected_clients = int(str(message.payload, 'utf-8'))\n",
    "        openhap_units = connected_clients - 1\n",
    "        print(f\"{openhap_units} OpenHAP units connected to broker\")"
   ]
  },
  {
   "cell_type": "markdown",
   "metadata": {},
   "source": [
    "## Test code"
   ]
  },
  {
   "cell_type": "code",
   "execution_count": null,
   "metadata": {},
   "outputs": [
    {
     "data": {
      "image/png": "[encoded data removed]",
      "text/plain": [
       "<Figure size 1440x720 with 1 Axes>"
      ]
     },
     "metadata": {
      "needs_background": "light"
     },
     "output_type": "display_data"
    }
   ],
   "source": [
    "controller = mqtt.Client(\"controller\",clean_session=True)\n",
    "\n",
    "controller.on_connect = on_connect\n",
    "controller.on_subscribe = on_subscribe\n",
    "controller.on_message = on_message\n",
    "\n",
    "with open(csv_file, 'w') as measurement_file:\n",
    "    print(\"CSV file opened - writing header\")\n",
    "    writer = csv.DictWriter(measurement_file, fieldnames=csv_fieldnames)\n",
    "    writer.writeheader()\n",
    "    measurement_file.close()\n",
    "    \n",
    "controller.connect(broker_address)\n",
    "controller.loop_start()\n",
    "\n",
    "while True:\n",
    "    try:\n",
    "        time.sleep(5)\n",
    "        controller.publish(\"command\", \"measure\")\n",
    "    except KeyboardInterrupt:\n",
    "        controller.loop_stop()\n",
    "        controller.disconnect()\n",
    "        print(\"CSV file closed and event loop thread stopped\")\n",
    "        break\n",
    "print(\"End of program\")"
   ]
  },
  {
   "cell_type": "code",
   "execution_count": null,
   "metadata": {},
   "outputs": [],
   "source": []
  }
 ],
 "metadata": {
  "kernelspec": {
   "display_name": "Python 3",
   "language": "python",
   "name": "python3"
  },
  "language_info": {
   "codemirror_mode": {
    "name": "ipython",
    "version": 3
   },
   "file_extension": ".py",
   "mimetype": "text/x-python",
   "name": "python",
   "nbconvert_exporter": "python",
   "pygments_lexer": "ipython3",
   "version": "3.7.6"
  }
 },
 "nbformat": 4,
 "nbformat_minor": 4
}
