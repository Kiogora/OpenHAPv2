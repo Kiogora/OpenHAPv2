{
 "cells": [
  {
   "cell_type": "markdown",
   "metadata": {},
   "source": [
    "# OpenHAP Measurement Normalization Framework"
   ]
  },
  {
   "cell_type": "markdown",
   "metadata": {},
   "source": [
    "![title](../../images/chamberTest.png)"
   ]
  },
  {
   "cell_type": "markdown",
   "metadata": {},
   "source": [
    "## Import required libraries"
   ]
  },
  {
   "cell_type": "code",
   "execution_count": 2,
   "metadata": {},
   "outputs": [],
   "source": [
    "import os\n",
    "import csv\n",
    "import time\n",
    "import glob\n",
    "import datetime\n",
    "import pandas as pd\n",
    "import paho.mqtt.client as mqtt\n",
    "from matplotlib import pyplot as plt\n",
    "from IPython.display import clear_output"
   ]
  },
  {
   "cell_type": "markdown",
   "metadata": {},
   "source": [
    "## Setup defaults"
   ]
  },
  {
   "cell_type": "markdown",
   "metadata": {},
   "source": [
    "### Setup broker specifics"
   ]
  },
  {
   "cell_type": "code",
   "execution_count": 3,
   "metadata": {},
   "outputs": [],
   "source": [
    "broker_address = \"127.0.0.1\""
   ]
  },
  {
   "cell_type": "code",
   "execution_count": 4,
   "metadata": {},
   "outputs": [],
   "source": [
    "broker_qos, command_qos, measurement_qos = 2,2,2"
   ]
  },
  {
   "cell_type": "code",
   "execution_count": 5,
   "metadata": {},
   "outputs": [],
   "source": [
    "system_mid, command_mid, measurement_mid = 0,0,0"
   ]
  },
  {
   "cell_type": "code",
   "execution_count": 6,
   "metadata": {},
   "outputs": [],
   "source": [
    "connected_units = 0"
   ]
  },
  {
   "cell_type": "code",
   "execution_count": 1,
   "metadata": {},
   "outputs": [],
   "source": [
    "openhap_clients_in_test = 20"
   ]
  },
  {
   "cell_type": "markdown",
   "metadata": {},
   "source": [
    "Change the command interval variable below in proportion to the number of devices in the test to avoid data congestion"
   ]
  },
  {
   "cell_type": "code",
   "execution_count": 7,
   "metadata": {},
   "outputs": [],
   "source": [
    "command_interval = 5"
   ]
  },
  {
   "cell_type": "markdown",
   "metadata": {},
   "source": [
    "### Setup dataframe and file specifics"
   ]
  },
  {
   "cell_type": "code",
   "execution_count": 11,
   "metadata": {},
   "outputs": [],
   "source": [
    "command_sent_time_txt = \"Command sent time(UTC)\"\n",
    "measurement_received_time_txt = \"Measurement received time (UTC)\"\n",
    "device_field_txt = \"Device\"\n",
    "device_time_field_txt = \"Device time (UTC)\"\n",
    "measurement_field_txt = \"Particulate measurement\"\n",
    "connected_openhap_units_field_txt = \"Connected OpenHAP units\""
   ]
  },
  {
   "cell_type": "code",
   "execution_count": 12,
   "metadata": {},
   "outputs": [],
   "source": [
    "csv_fieldnames = [command_sent_time_txt, measurement_received_time_txt, device_field_txt, \n",
    "                  device_time_field_txt, measurement_field_txt, connected_openhap_units_field_txt]"
   ]
  },
  {
   "cell_type": "code",
   "execution_count": 13,
   "metadata": {},
   "outputs": [],
   "source": [
    "measurement_file = \"chamberTest.csv\""
   ]
  },
  {
   "cell_type": "markdown",
   "metadata": {},
   "source": [
    "## Setup dataframes and the live plotting function"
   ]
  },
  {
   "cell_type": "code",
   "execution_count": 14,
   "metadata": {},
   "outputs": [],
   "source": [
    "measurement_df = pd.DataFrame(columns=csv_fieldnames)"
   ]
  },
  {
   "cell_type": "code",
   "execution_count": 15,
   "metadata": {},
   "outputs": [],
   "source": [
    "%matplotlib inline\n",
    "\n",
    "def live_plot():\n",
    "    measurement_df_copy = measurement_df.copy()\n",
    "    measurement_df_copy.set_index(device_time_field_txt, inplace=True)\n",
    "    measurement_df_copy.groupby(device_field_txt)[measurement_field_txt].plot(legend=True, \n",
    "                                                                              figsize=(20,10), \n",
    "                                                                              grid=True)\n",
    "    clear_output(wait=True)\n",
    "    plt.show();"
   ]
  },
  {
   "cell_type": "markdown",
   "metadata": {},
   "source": [
    "## Setup event callbacks"
   ]
  },
  {
   "cell_type": "code",
   "execution_count": 16,
   "metadata": {},
   "outputs": [],
   "source": [
    "def on_connect(client, userdata, flags, rc):\n",
    "    global system_mid, command_mid, measurement_mid\n",
    "    if rc == 0:\n",
    "        print(\"Connected OK\")\n",
    "        system_mid = client.subscribe(\"$SYS/broker/clients/#\", broker_qos)[-1]\n",
    "        command_mid = client.subscribe(\"command\", command_qos)[-1]\n",
    "        measurement_mid = client.subscribe(\"measurement/#\", measurement_qos)[-1]"
   ]
  },
  {
   "cell_type": "code",
   "execution_count": 17,
   "metadata": {},
   "outputs": [],
   "source": [
    "def on_subscribe(client, userdata, mid, granted_qos): \n",
    "    if mid == measurement_mid:\n",
    "        print(\"measurement topics successfully subscribed\")\n",
    "    elif mid == command_mid:\n",
    "        print(\"Command topic successfully subscribed\")\n",
    "    elif mid == system_mid:\n",
    "        print(\"System topic successfully subscribed\")\n",
    "    else:\n",
    "        print(\"Other topic subscription acknowledgement received\")"
   ]
  },
  {
   "cell_type": "code",
   "execution_count": 19,
   "metadata": {},
   "outputs": [],
   "source": [
    "def on_message(client, userdata, message):\n",
    "    global connected_units, measurement_df\n",
    "    if message.topic == \"command\":\n",
    "        print(\"Measurement command sent!\")\n",
    "    if \"measurement\" in message.topic:\n",
    "            measurement_received_time = int(time.time())\n",
    "            mqtt_topic_levels = message.topic.split('/')\n",
    "            if len(mqtt_topic_levels) != 2:\n",
    "                print(\"Improperly formatted measurement topic received\")\n",
    "            else:\n",
    "                payload = str(message.payload, 'utf-8').split(',')\n",
    "                \n",
    "                device = mqtt_topic_levels[1]\n",
    "                \n",
    "                command_sent_time = int(payload[0])\n",
    "                measurement = float(payload[1])\n",
    "                device_time = int(payload[2])\n",
    "                \n",
    "                #Not ideal to expand a dataframe...but it will do\n",
    "                temp = pd.DataFrame([[command_sent_time,\n",
    "                                      measurement_received_time,\n",
    "                                      device,\n",
    "                                      device_time,\n",
    "                                      measurement,\n",
    "                                      openhap_units]], columns = csv_fieldnames)\n",
    "                \n",
    "                temp[command_sent_time_txt] = pd.to_datetime(temp[command_sent_time_txt], unit='s')\n",
    "                temp[measurement_received_time_txt] = pd.to_datetime(temp[measurement_received_time-txt], unit='s')\n",
    "                temp[device_time_field_txt] = pd.to_datetime(temp[device_time_field_txt], unit='s')\n",
    "                temp[measurement_field_txt]= temp[measurement_field_txt].astype(float)\n",
    "                \n",
    "                measurement_df = pd.concat([measurement_df, temp])\n",
    "                live_plot()\n",
    "    if \"connected\" in message.topic:\n",
    "        connected_clients = int(str(message.payload, 'utf-8'))\n",
    "        print(f\"{connected_clients} MQTT clients connected to broker, including measurement controller\")"
   ]
  },
  {
   "cell_type": "markdown",
   "metadata": {},
   "source": [
    "## Test code"
   ]
  },
  {
   "cell_type": "code",
   "execution_count": 15,
   "metadata": {},
   "outputs": [
    {
     "name": "stdout",
     "output_type": "stream",
     "text": [
      "Connected OK\n",
      "System topic successfully subscribed\n",
      "Command topic successfully subscribed\n",
      "measurement topics successfully subscribed\n",
      "1 MQTT clients connected to broker, including measurement controller\n",
      "Measurement command sent!\n",
      "Event loop thread stopped and CSV written\n",
      "End of program\n"
     ]
    }
   ],
   "source": [
    "file_present = glob.glob(measurement_file)\n",
    "\n",
    "if file_present:\n",
    "    os.remove(measurement_file)\n",
    "\n",
    "controller = mqtt.Client(\"controller\",clean_session=True)\n",
    "\n",
    "controller.on_connect = on_connect\n",
    "controller.on_subscribe = on_subscribe\n",
    "controller.on_message = on_message\n",
    "\n",
    "controller.connect(broker_address)\n",
    "while True:\n",
    "    try:\n",
    "        controller.loop(timeout=0.5, max_packets = openhap_clients_in_test)\n",
    "        time_now = time.time()\n",
    "        if (time_now - last_publish_time) > command_interval:\n",
    "            controller.publish(\"command\", int(time_now))\n",
    "            last_publish_time = time_now \n",
    "    except KeyboardInterrupt:\n",
    "        measurement_df = pd.DataFrame(columns=measurement_df.columns)\n",
    "        controller.disconnect()\n",
    "        measurement_df.to_csv(measurement_file, encoding = \"utf-8\", index = False)\n",
    "        print(\"Event loop thread stopped and CSV written\")\n",
    "        break"
   ]
  },
  {
   "cell_type": "code",
   "execution_count": null,
   "metadata": {},
   "outputs": [],
   "source": []
  }
 ],
 "metadata": {
  "kernelspec": {
   "display_name": "Python 3",
   "language": "python",
   "name": "python3"
  },
  "language_info": {
   "codemirror_mode": {
    "name": "ipython",
    "version": 3
   },
   "file_extension": ".py",
   "mimetype": "text/x-python",
   "name": "python",
   "nbconvert_exporter": "python",
   "pygments_lexer": "ipython3",
   "version": "3.9.5"
  }
 },
 "nbformat": 4,
 "nbformat_minor": 4
}
